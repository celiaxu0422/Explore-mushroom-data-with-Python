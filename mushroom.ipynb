{
 "cells": [
  {
   "cell_type": "code",
   "execution_count": 1,
   "id": "ad68cc8c",
   "metadata": {},
   "outputs": [],
   "source": [
    "import numpy as np\n",
    "import pandas as pd\n",
    "import matplotlib.pyplot as plt\n",
    "import seaborn as sns\n",
    "from encodings.aliases import aliases # Python has a file containing a dictionary of encoding names and associated aliases\n",
    "\n",
    "# the matplotlib plots will appear directly below the cell in which the plot function was called.\n",
    "%matplotlib inline"
   ]
  },
  {
   "cell_type": "code",
   "execution_count": 2,
   "id": "db0de86e",
   "metadata": {},
   "outputs": [
    {
     "name": "stdout",
     "output_type": "stream",
     "text": [
      "successful cp864\n",
      "successful cp1026\n",
      "successful big5hkscs\n",
      "successful iso8859_13\n",
      "successful cp857\n",
      "successful mac_cyrillic\n",
      "successful cp437\n",
      "successful cp850\n",
      "successful iso8859_15\n",
      "successful ptcp154\n",
      "successful iso8859_7\n",
      "successful utf_16_be\n",
      "successful cp273\n",
      "successful iso8859_9\n",
      "successful kz1048\n",
      "successful latin_1\n",
      "successful iso8859_14\n",
      "successful mac_latin2\n",
      "successful iso8859_3\n",
      "successful cp852\n",
      "successful iso8859_10\n",
      "successful cp037\n",
      "successful cp500\n",
      "successful iso8859_4\n",
      "successful cp860\n",
      "successful cp949\n",
      "successful iso8859_5\n",
      "successful cp863\n",
      "successful cp855\n",
      "successful gb18030\n",
      "successful iso8859_2\n",
      "successful cp865\n",
      "successful cp869\n",
      "successful cp775\n",
      "successful cp1250\n",
      "successful mac_roman\n",
      "successful utf_16_le\n",
      "successful cp1255\n",
      "successful cp1253\n",
      "successful cp1257\n",
      "successful cp1125\n",
      "successful iso8859_8\n",
      "successful cp1140\n",
      "successful cp862\n",
      "successful cp932\n",
      "successful cp1254\n",
      "successful mac_iceland\n",
      "successful gbk\n",
      "successful cp861\n",
      "successful mac_greek\n",
      "successful koi8_r\n",
      "successful iso8859_16\n",
      "successful cp1252\n",
      "successful cp866\n",
      "successful iso8859_11\n",
      "successful iso8859_6\n",
      "successful cp1258\n",
      "successful cp858\n",
      "successful mac_turkish\n",
      "successful cp1256\n",
      "successful hp_roman8\n",
      "successful cp1251\n"
     ]
    }
   ],
   "source": [
    "# To find encodings that work\n",
    "\n",
    "# Below line creates a set of all available encodings\n",
    "alias_values = set(aliases.values())\n",
    "\n",
    "for encoding in set(aliases.values()):\n",
    "    try:\n",
    "        df=pd.read_csv(\"crime.csv\", nrows=10, encoding=encoding) # read in only 10 lines for faster read\n",
    "        print('successful', encoding)\n",
    "    except:\n",
    "        pass"
   ]
  },
  {
   "cell_type": "code",
   "execution_count": 3,
   "id": "12332174",
   "metadata": {},
   "outputs": [],
   "source": [
    "# Read in the crime.csv file and use the timestamp as a datetime index\n",
    "mushroom = pd.read_csv(\"mushroom_cleaned.csv\", encoding=\"ISO-8859-11\")"
   ]
  },
  {
   "cell_type": "code",
   "execution_count": 4,
   "id": "2735d5db",
   "metadata": {},
   "outputs": [
    {
     "data": {
      "text/html": [
       "<div>\n",
       "<style scoped>\n",
       "    .dataframe tbody tr th:only-of-type {\n",
       "        vertical-align: middle;\n",
       "    }\n",
       "\n",
       "    .dataframe tbody tr th {\n",
       "        vertical-align: top;\n",
       "    }\n",
       "\n",
       "    .dataframe thead th {\n",
       "        text-align: right;\n",
       "    }\n",
       "</style>\n",
       "<table border=\"1\" class=\"dataframe\">\n",
       "  <thead>\n",
       "    <tr style=\"text-align: right;\">\n",
       "      <th></th>\n",
       "      <th>cap-diameter</th>\n",
       "      <th>cap-shape</th>\n",
       "      <th>gill-attachment</th>\n",
       "      <th>gill-color</th>\n",
       "      <th>stem-height</th>\n",
       "      <th>stem-width</th>\n",
       "      <th>stem-color</th>\n",
       "      <th>season</th>\n",
       "      <th>class</th>\n",
       "    </tr>\n",
       "  </thead>\n",
       "  <tbody>\n",
       "    <tr>\n",
       "      <th>0</th>\n",
       "      <td>1372</td>\n",
       "      <td>2</td>\n",
       "      <td>2</td>\n",
       "      <td>10</td>\n",
       "      <td>3.807467</td>\n",
       "      <td>1545</td>\n",
       "      <td>11</td>\n",
       "      <td>1.804273</td>\n",
       "      <td>1</td>\n",
       "    </tr>\n",
       "    <tr>\n",
       "      <th>1</th>\n",
       "      <td>1461</td>\n",
       "      <td>2</td>\n",
       "      <td>2</td>\n",
       "      <td>10</td>\n",
       "      <td>3.807467</td>\n",
       "      <td>1557</td>\n",
       "      <td>11</td>\n",
       "      <td>1.804273</td>\n",
       "      <td>1</td>\n",
       "    </tr>\n",
       "    <tr>\n",
       "      <th>2</th>\n",
       "      <td>1371</td>\n",
       "      <td>2</td>\n",
       "      <td>2</td>\n",
       "      <td>10</td>\n",
       "      <td>3.612496</td>\n",
       "      <td>1566</td>\n",
       "      <td>11</td>\n",
       "      <td>1.804273</td>\n",
       "      <td>1</td>\n",
       "    </tr>\n",
       "    <tr>\n",
       "      <th>3</th>\n",
       "      <td>1261</td>\n",
       "      <td>6</td>\n",
       "      <td>2</td>\n",
       "      <td>10</td>\n",
       "      <td>3.787572</td>\n",
       "      <td>1566</td>\n",
       "      <td>11</td>\n",
       "      <td>1.804273</td>\n",
       "      <td>1</td>\n",
       "    </tr>\n",
       "    <tr>\n",
       "      <th>4</th>\n",
       "      <td>1305</td>\n",
       "      <td>6</td>\n",
       "      <td>2</td>\n",
       "      <td>10</td>\n",
       "      <td>3.711971</td>\n",
       "      <td>1464</td>\n",
       "      <td>11</td>\n",
       "      <td>0.943195</td>\n",
       "      <td>1</td>\n",
       "    </tr>\n",
       "  </tbody>\n",
       "</table>\n",
       "</div>"
      ],
      "text/plain": [
       "   cap-diameter  cap-shape  gill-attachment  gill-color  stem-height  \\\n",
       "0          1372          2                2          10     3.807467   \n",
       "1          1461          2                2          10     3.807467   \n",
       "2          1371          2                2          10     3.612496   \n",
       "3          1261          6                2          10     3.787572   \n",
       "4          1305          6                2          10     3.711971   \n",
       "\n",
       "   stem-width  stem-color    season  class  \n",
       "0        1545          11  1.804273      1  \n",
       "1        1557          11  1.804273      1  \n",
       "2        1566          11  1.804273      1  \n",
       "3        1566          11  1.804273      1  \n",
       "4        1464          11  0.943195      1  "
      ]
     },
     "execution_count": 4,
     "metadata": {},
     "output_type": "execute_result"
    }
   ],
   "source": [
    "mushroom.head()"
   ]
  },
  {
   "cell_type": "code",
   "execution_count": 6,
   "id": "dcdc7de6",
   "metadata": {},
   "outputs": [
    {
     "data": {
      "text/plain": [
       "(54035, 9)"
      ]
     },
     "execution_count": 6,
     "metadata": {},
     "output_type": "execute_result"
    }
   ],
   "source": [
    "mushroom.shape"
   ]
  },
  {
   "cell_type": "code",
   "execution_count": 7,
   "id": "046ba345",
   "metadata": {},
   "outputs": [
    {
     "data": {
      "text/plain": [
       "303"
      ]
     },
     "execution_count": 7,
     "metadata": {},
     "output_type": "execute_result"
    }
   ],
   "source": [
    "mushroom.duplicated().sum() # Counting the duplicate rows"
   ]
  },
  {
   "cell_type": "code",
   "execution_count": 9,
   "id": "982e1f14",
   "metadata": {},
   "outputs": [],
   "source": [
    "mushroom.drop_duplicates(inplace=True)"
   ]
  },
  {
   "cell_type": "code",
   "execution_count": 10,
   "id": "712567c5",
   "metadata": {},
   "outputs": [
    {
     "data": {
      "text/plain": [
       "(53732, 9)"
      ]
     },
     "execution_count": 10,
     "metadata": {},
     "output_type": "execute_result"
    }
   ],
   "source": [
    "mushroom.shape"
   ]
  },
  {
   "cell_type": "code",
   "execution_count": 11,
   "id": "fa73ca67",
   "metadata": {},
   "outputs": [
    {
     "data": {
      "text/html": [
       "<div>\n",
       "<style scoped>\n",
       "    .dataframe tbody tr th:only-of-type {\n",
       "        vertical-align: middle;\n",
       "    }\n",
       "\n",
       "    .dataframe tbody tr th {\n",
       "        vertical-align: top;\n",
       "    }\n",
       "\n",
       "    .dataframe thead th {\n",
       "        text-align: right;\n",
       "    }\n",
       "</style>\n",
       "<table border=\"1\" class=\"dataframe\">\n",
       "  <thead>\n",
       "    <tr style=\"text-align: right;\">\n",
       "      <th></th>\n",
       "      <th>cap-diameter</th>\n",
       "      <th>cap-shape</th>\n",
       "      <th>gill-attachment</th>\n",
       "      <th>gill-color</th>\n",
       "      <th>stem-height</th>\n",
       "      <th>stem-width</th>\n",
       "      <th>stem-color</th>\n",
       "      <th>season</th>\n",
       "      <th>class</th>\n",
       "    </tr>\n",
       "  </thead>\n",
       "  <tbody>\n",
       "    <tr>\n",
       "      <th>0</th>\n",
       "      <td>1372</td>\n",
       "      <td>2</td>\n",
       "      <td>2</td>\n",
       "      <td>10</td>\n",
       "      <td>3.807467</td>\n",
       "      <td>1545</td>\n",
       "      <td>11</td>\n",
       "      <td>1.804273</td>\n",
       "      <td>1</td>\n",
       "    </tr>\n",
       "    <tr>\n",
       "      <th>1</th>\n",
       "      <td>1461</td>\n",
       "      <td>2</td>\n",
       "      <td>2</td>\n",
       "      <td>10</td>\n",
       "      <td>3.807467</td>\n",
       "      <td>1557</td>\n",
       "      <td>11</td>\n",
       "      <td>1.804273</td>\n",
       "      <td>1</td>\n",
       "    </tr>\n",
       "    <tr>\n",
       "      <th>2</th>\n",
       "      <td>1371</td>\n",
       "      <td>2</td>\n",
       "      <td>2</td>\n",
       "      <td>10</td>\n",
       "      <td>3.612496</td>\n",
       "      <td>1566</td>\n",
       "      <td>11</td>\n",
       "      <td>1.804273</td>\n",
       "      <td>1</td>\n",
       "    </tr>\n",
       "    <tr>\n",
       "      <th>3</th>\n",
       "      <td>1261</td>\n",
       "      <td>6</td>\n",
       "      <td>2</td>\n",
       "      <td>10</td>\n",
       "      <td>3.787572</td>\n",
       "      <td>1566</td>\n",
       "      <td>11</td>\n",
       "      <td>1.804273</td>\n",
       "      <td>1</td>\n",
       "    </tr>\n",
       "    <tr>\n",
       "      <th>4</th>\n",
       "      <td>1305</td>\n",
       "      <td>6</td>\n",
       "      <td>2</td>\n",
       "      <td>10</td>\n",
       "      <td>3.711971</td>\n",
       "      <td>1464</td>\n",
       "      <td>11</td>\n",
       "      <td>0.943195</td>\n",
       "      <td>1</td>\n",
       "    </tr>\n",
       "  </tbody>\n",
       "</table>\n",
       "</div>"
      ],
      "text/plain": [
       "   cap-diameter  cap-shape  gill-attachment  gill-color  stem-height  \\\n",
       "0          1372          2                2          10     3.807467   \n",
       "1          1461          2                2          10     3.807467   \n",
       "2          1371          2                2          10     3.612496   \n",
       "3          1261          6                2          10     3.787572   \n",
       "4          1305          6                2          10     3.711971   \n",
       "\n",
       "   stem-width  stem-color    season  class  \n",
       "0        1545          11  1.804273      1  \n",
       "1        1557          11  1.804273      1  \n",
       "2        1566          11  1.804273      1  \n",
       "3        1566          11  1.804273      1  \n",
       "4        1464          11  0.943195      1  "
      ]
     },
     "execution_count": 11,
     "metadata": {},
     "output_type": "execute_result"
    }
   ],
   "source": [
    "mushroom.head()"
   ]
  },
  {
   "cell_type": "code",
   "execution_count": 12,
   "id": "65664c8c",
   "metadata": {},
   "outputs": [
    {
     "name": "stdout",
     "output_type": "stream",
     "text": [
      "<class 'pandas.core.frame.DataFrame'>\n",
      "Index: 53732 entries, 0 to 54034\n",
      "Data columns (total 9 columns):\n",
      " #   Column           Non-Null Count  Dtype  \n",
      "---  ------           --------------  -----  \n",
      " 0   cap-diameter     53732 non-null  int64  \n",
      " 1   cap-shape        53732 non-null  int64  \n",
      " 2   gill-attachment  53732 non-null  int64  \n",
      " 3   gill-color       53732 non-null  int64  \n",
      " 4   stem-height      53732 non-null  float64\n",
      " 5   stem-width       53732 non-null  int64  \n",
      " 6   stem-color       53732 non-null  int64  \n",
      " 7   season           53732 non-null  float64\n",
      " 8   class            53732 non-null  int64  \n",
      "dtypes: float64(2), int64(7)\n",
      "memory usage: 4.1 MB\n"
     ]
    }
   ],
   "source": [
    "mushroom.info()"
   ]
  },
  {
   "cell_type": "code",
   "execution_count": 13,
   "id": "a2cc49c8",
   "metadata": {},
   "outputs": [
    {
     "data": {
      "text/html": [
       "<div>\n",
       "<style scoped>\n",
       "    .dataframe tbody tr th:only-of-type {\n",
       "        vertical-align: middle;\n",
       "    }\n",
       "\n",
       "    .dataframe tbody tr th {\n",
       "        vertical-align: top;\n",
       "    }\n",
       "\n",
       "    .dataframe thead th {\n",
       "        text-align: right;\n",
       "    }\n",
       "</style>\n",
       "<table border=\"1\" class=\"dataframe\">\n",
       "  <thead>\n",
       "    <tr style=\"text-align: right;\">\n",
       "      <th></th>\n",
       "      <th>cap-diameter</th>\n",
       "      <th>cap-shape</th>\n",
       "      <th>gill-attachment</th>\n",
       "      <th>gill-color</th>\n",
       "      <th>stem-height</th>\n",
       "      <th>stem-width</th>\n",
       "      <th>stem-color</th>\n",
       "      <th>season</th>\n",
       "      <th>class</th>\n",
       "    </tr>\n",
       "  </thead>\n",
       "  <tbody>\n",
       "    <tr>\n",
       "      <th>count</th>\n",
       "      <td>53732.000000</td>\n",
       "      <td>53732.000000</td>\n",
       "      <td>53732.000000</td>\n",
       "      <td>53732.000000</td>\n",
       "      <td>53732.000000</td>\n",
       "      <td>53732.000000</td>\n",
       "      <td>53732.000000</td>\n",
       "      <td>53732.000000</td>\n",
       "      <td>53732.000000</td>\n",
       "    </tr>\n",
       "    <tr>\n",
       "      <th>mean</th>\n",
       "      <td>568.629178</td>\n",
       "      <td>4.005900</td>\n",
       "      <td>2.142857</td>\n",
       "      <td>7.344599</td>\n",
       "      <td>0.752102</td>\n",
       "      <td>1057.000633</td>\n",
       "      <td>8.454013</td>\n",
       "      <td>0.952322</td>\n",
       "      <td>0.546639</td>\n",
       "    </tr>\n",
       "    <tr>\n",
       "      <th>std</th>\n",
       "      <td>360.384461</td>\n",
       "      <td>2.165188</td>\n",
       "      <td>2.232546</td>\n",
       "      <td>3.190447</td>\n",
       "      <td>0.645987</td>\n",
       "      <td>780.263033</td>\n",
       "      <td>3.235507</td>\n",
       "      <td>0.303795</td>\n",
       "      <td>0.497825</td>\n",
       "    </tr>\n",
       "    <tr>\n",
       "      <th>min</th>\n",
       "      <td>0.000000</td>\n",
       "      <td>0.000000</td>\n",
       "      <td>0.000000</td>\n",
       "      <td>0.000000</td>\n",
       "      <td>0.000426</td>\n",
       "      <td>0.000000</td>\n",
       "      <td>0.000000</td>\n",
       "      <td>0.027372</td>\n",
       "      <td>0.000000</td>\n",
       "    </tr>\n",
       "    <tr>\n",
       "      <th>25%</th>\n",
       "      <td>290.000000</td>\n",
       "      <td>2.000000</td>\n",
       "      <td>0.000000</td>\n",
       "      <td>5.000000</td>\n",
       "      <td>0.270146</td>\n",
       "      <td>430.000000</td>\n",
       "      <td>6.000000</td>\n",
       "      <td>0.888450</td>\n",
       "      <td>0.000000</td>\n",
       "    </tr>\n",
       "    <tr>\n",
       "      <th>50%</th>\n",
       "      <td>528.000000</td>\n",
       "      <td>5.000000</td>\n",
       "      <td>1.000000</td>\n",
       "      <td>8.000000</td>\n",
       "      <td>0.589316</td>\n",
       "      <td>929.000000</td>\n",
       "      <td>11.000000</td>\n",
       "      <td>0.943195</td>\n",
       "      <td>1.000000</td>\n",
       "    </tr>\n",
       "    <tr>\n",
       "      <th>75%</th>\n",
       "      <td>782.000000</td>\n",
       "      <td>6.000000</td>\n",
       "      <td>4.000000</td>\n",
       "      <td>10.000000</td>\n",
       "      <td>1.046900</td>\n",
       "      <td>1527.000000</td>\n",
       "      <td>11.000000</td>\n",
       "      <td>0.943195</td>\n",
       "      <td>1.000000</td>\n",
       "    </tr>\n",
       "    <tr>\n",
       "      <th>max</th>\n",
       "      <td>1891.000000</td>\n",
       "      <td>6.000000</td>\n",
       "      <td>6.000000</td>\n",
       "      <td>11.000000</td>\n",
       "      <td>3.835320</td>\n",
       "      <td>3569.000000</td>\n",
       "      <td>12.000000</td>\n",
       "      <td>1.804273</td>\n",
       "      <td>1.000000</td>\n",
       "    </tr>\n",
       "  </tbody>\n",
       "</table>\n",
       "</div>"
      ],
      "text/plain": [
       "       cap-diameter     cap-shape  gill-attachment    gill-color  \\\n",
       "count  53732.000000  53732.000000     53732.000000  53732.000000   \n",
       "mean     568.629178      4.005900         2.142857      7.344599   \n",
       "std      360.384461      2.165188         2.232546      3.190447   \n",
       "min        0.000000      0.000000         0.000000      0.000000   \n",
       "25%      290.000000      2.000000         0.000000      5.000000   \n",
       "50%      528.000000      5.000000         1.000000      8.000000   \n",
       "75%      782.000000      6.000000         4.000000     10.000000   \n",
       "max     1891.000000      6.000000         6.000000     11.000000   \n",
       "\n",
       "        stem-height    stem-width    stem-color        season         class  \n",
       "count  53732.000000  53732.000000  53732.000000  53732.000000  53732.000000  \n",
       "mean       0.752102   1057.000633      8.454013      0.952322      0.546639  \n",
       "std        0.645987    780.263033      3.235507      0.303795      0.497825  \n",
       "min        0.000426      0.000000      0.000000      0.027372      0.000000  \n",
       "25%        0.270146    430.000000      6.000000      0.888450      0.000000  \n",
       "50%        0.589316    929.000000     11.000000      0.943195      1.000000  \n",
       "75%        1.046900   1527.000000     11.000000      0.943195      1.000000  \n",
       "max        3.835320   3569.000000     12.000000      1.804273      1.000000  "
      ]
     },
     "execution_count": 13,
     "metadata": {},
     "output_type": "execute_result"
    }
   ],
   "source": [
    "mushroom.describe()"
   ]
  },
  {
   "cell_type": "code",
   "execution_count": 15,
   "id": "d80e3e8b",
   "metadata": {},
   "outputs": [
    {
     "name": "stdout",
     "output_type": "stream",
     "text": [
      "Missing values in each column \n",
      "\n"
     ]
    },
    {
     "data": {
      "text/plain": [
       "cap-diameter       0\n",
       "cap-shape          0\n",
       "gill-attachment    0\n",
       "gill-color         0\n",
       "stem-height        0\n",
       "stem-width         0\n",
       "stem-color         0\n",
       "season             0\n",
       "class              0\n",
       "dtype: int64"
      ]
     },
     "execution_count": 15,
     "metadata": {},
     "output_type": "execute_result"
    }
   ],
   "source": [
    "# Checking for the number of missing values in each column\n",
    "print('Missing values in each column \\n')\n",
    "mushroom[mushroom.columns].isnull().sum()"
   ]
  },
  {
   "cell_type": "code",
   "execution_count": 18,
   "id": "9055c6ab",
   "metadata": {},
   "outputs": [
    {
     "data": {
      "text/plain": [
       "cap-shape\n",
       "6    0.435029\n",
       "2    0.228802\n",
       "5    0.128210\n",
       "0    0.098117\n",
       "3    0.046155\n",
       "1    0.032048\n",
       "4    0.031639\n",
       "Name: count, dtype: float64"
      ]
     },
     "metadata": {},
     "output_type": "display_data"
    },
    {
     "data": {
      "image/png": "[encoded data removed]",
      "text/plain": [
       "<Figure size 640x480 with 1 Axes>"
      ]
     },
     "metadata": {},
     "output_type": "display_data"
    }
   ],
   "source": [
    "cap_shape_vals = mushroom['cap-shape'].value_counts()[:10]\n",
    "\n",
    "display(cap_shape_vals / mushroom.shape[0])\n",
    "\n",
    "# Creating a bar chart of the Top 10 cap shapes\n",
    "(cap_shape_vals / mushroom.shape[0]).plot(kind='bar')\n",
    "plt.title('Top 10 cap shape of mushroom')\n",
    "plt.show()"
   ]
  },
  {
   "cell_type": "code",
   "execution_count": null,
   "id": "1cf48adc",
   "metadata": {},
   "outputs": [],
   "source": []
  }
 ],
 "metadata": {
  "kernelspec": {
   "display_name": "Python 3 (ipykernel)",
   "language": "python",
   "name": "python3"
  },
  "language_info": {
   "codemirror_mode": {
    "name": "ipython",
    "version": 3
   },
   "file_extension": ".py",
   "mimetype": "text/x-python",
   "name": "python",
   "nbconvert_exporter": "python",
   "pygments_lexer": "ipython3",
   "version": "3.11.5"
  }
 },
 "nbformat": 4,
 "nbformat_minor": 5
}
